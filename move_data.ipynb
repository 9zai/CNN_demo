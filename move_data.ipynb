{
 "cells": [
  {
   "cell_type": "code",
   "execution_count": 1,
   "metadata": {},
   "outputs": [],
   "source": [
    "import os\n",
    "import shutil\n",
    "import random"
   ]
  },
  {
   "cell_type": "code",
   "execution_count": 2,
   "metadata": {},
   "outputs": [],
   "source": [
    "defect = \"defect\"\n",
    "base_dir = \"./format_data/\"\n",
    "train_dir = \"train/\"\n",
    "test_dir = \"val/\"\n",
    "\n",
    "move_count = 10"
   ]
  },
  {
   "cell_type": "code",
   "execution_count": 3,
   "metadata": {},
   "outputs": [],
   "source": [
    "def move_file(from_dir,to_dir,thredhold = 10):\n",
    "    c = 0\n",
    "    for f in os.listdir(from_dir):\n",
    "        if c == thredhold:\n",
    "            break\n",
    "        else:\n",
    "            os.system(\"mv {from_dir}{f} {to_dir}/\".format(from_dir = from_dir,f = f,to_dir = to_dir))\n",
    "            c+=1\n",
    "            \n",
    "def random_move_file(from_dir,to_dir,possibility = 0.3):\n",
    "    for f in os.listdir(from_dir):\n",
    "        pos = random.random()\n",
    "        if pos <= possibility:\n",
    "            os.system(\"mv {from_dir}{f} {to_dir}/\".format(from_dir = from_dir,f = f,to_dir = to_dir))\n",
    "        else:\n",
    "            continue"
   ]
  },
  {
   "cell_type": "code",
   "execution_count": 5,
   "metadata": {},
   "outputs": [],
   "source": [
    "for i in range(0,11):\n",
    "    defect_dir = defect+str(i)+'/'\n",
    "    if move_count > 0:\n",
    "        move_file(base_dir+train_dir+defect_dir,base_dir+test_dir+defect_dir,move_count)\n",
    "    else:\n",
    "        move_file(base_dir+test_dir+defect_dir,base_dir+train_dir+defect_dir,-move_count)"
   ]
  },
  {
   "cell_type": "code",
   "execution_count": 6,
   "metadata": {},
   "outputs": [],
   "source": []
  },
  {
   "cell_type": "code",
   "execution_count": 4,
   "metadata": {},
   "outputs": [],
   "source": [
    "move_file(base_dir+test_dir+'defect11/',base_dir+train_dir+'defect11/',20)"
   ]
  },
  {
   "cell_type": "code",
   "execution_count": 5,
   "metadata": {},
   "outputs": [],
   "source": [
    "random_move_file(base_dir+train_dir+'defect11/',base_dir+test_dir+'defect11/',0.2)"
   ]
  },
  {
   "cell_type": "code",
   "execution_count": null,
   "metadata": {},
   "outputs": [],
   "source": []
  },
  {
   "cell_type": "code",
   "execution_count": null,
   "metadata": {},
   "outputs": [],
   "source": []
  }
 ],
 "metadata": {
  "kernelspec": {
   "display_name": "Python 3",
   "language": "python",
   "name": "python3"
  },
  "language_info": {
   "codemirror_mode": {
    "name": "ipython",
    "version": 3
   },
   "file_extension": ".py",
   "mimetype": "text/x-python",
   "name": "python",
   "nbconvert_exporter": "python",
   "pygments_lexer": "ipython3",
   "version": "3.6.5"
  }
 },
 "nbformat": 4,
 "nbformat_minor": 2
}
