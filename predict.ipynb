{
 "cells": [
  {
   "cell_type": "code",
   "execution_count": 5,
   "metadata": {},
   "outputs": [],
   "source": [
    "import os\n",
    "import numpy as np\n",
    "import pandas as pd\n",
    "import re\n",
    "\n",
    "from keras.models import load_model\n",
    "from keras.preprocessing import image\n",
    "from keras.applications import Xception\n",
    "\n",
    "from PIL import ImageFile\n",
    "ImageFile.LOAD_TRUNCATED_IMAGES = True"
   ]
  },
  {
   "cell_type": "code",
   "execution_count": 2,
   "metadata": {},
   "outputs": [
    {
     "name": "stdout",
     "output_type": "stream",
     "text": [
      "WARNING:tensorflow:From /home/dc2-user/anaconda3/lib/python3.6/site-packages/keras/backend/tensorflow_backend.py:1205: calling reduce_prod (from tensorflow.python.ops.math_ops) with keep_dims is deprecated and will be removed in a future version.\n",
      "Instructions for updating:\n",
      "keep_dims is deprecated, use keepdims instead\n",
      "WARNING:tensorflow:From /home/dc2-user/anaconda3/lib/python3.6/site-packages/keras/backend/tensorflow_backend.py:2755: calling reduce_sum (from tensorflow.python.ops.math_ops) with keep_dims is deprecated and will be removed in a future version.\n",
      "Instructions for updating:\n",
      "keep_dims is deprecated, use keepdims instead\n",
      "WARNING:tensorflow:From /home/dc2-user/anaconda3/lib/python3.6/site-packages/keras/backend/tensorflow_backend.py:1290: calling reduce_mean (from tensorflow.python.ops.math_ops) with keep_dims is deprecated and will be removed in a future version.\n",
      "Instructions for updating:\n",
      "keep_dims is deprecated, use keepdims instead\n",
      "_________________________________________________________________\n",
      "Layer (type)                 Output Shape              Param #   \n",
      "=================================================================\n",
      "xception (Model)             (None, 10, 10, 2048)      20861480  \n",
      "_________________________________________________________________\n",
      "flatten_1 (Flatten)          (None, 204800)            0         \n",
      "_________________________________________________________________\n",
      "dense_1 (Dense)              (None, 650)               133120650 \n",
      "_________________________________________________________________\n",
      "dropout_1 (Dropout)          (None, 650)               0         \n",
      "_________________________________________________________________\n",
      "dense_2 (Dense)              (None, 12)                7812      \n",
      "=================================================================\n",
      "Total params: 153,989,942\n",
      "Trainable params: 153,935,414\n",
      "Non-trainable params: 54,528\n",
      "_________________________________________________________________\n",
      "None\n"
     ]
    }
   ],
   "source": [
    "test_folder = \"./test2/\"\n",
    "feature_size = 299\n",
    "\n",
    "model_path = \"./Xception_whole.h5\"\n",
    "model = load_model(model_path)\n",
    "\n",
    "#middle_faeture_shape = (10,10,2048)\n",
    "#X_model = Xception(weights=None,include_top=False,input_shape=(feature_size,feature_size,3))\n",
    "#X_model.load_weights(\"./xception_weights_notop.h5\")\n",
    "\n",
    "print(model.summary())"
   ]
  },
  {
   "cell_type": "code",
   "execution_count": 3,
   "metadata": {},
   "outputs": [],
   "source": [
    "def preprocessing(x,output_size = None,pre_model = None):\n",
    "    if pre_model is None:\n",
    "        return x\n",
    "    elif output_size is None:\n",
    "        raise Exception('should use output_size for pre_model')\n",
    "    else:\n",
    "        middle_faeture = pre_model.predict(x)\n",
    "        res = np.reshape(middle_faeture,(1,output_size[0] * output_size[1] * output_size[2]))\n",
    "        return res"
   ]
  },
  {
   "cell_type": "code",
   "execution_count": 6,
   "metadata": {},
   "outputs": [],
   "source": [
    "res = []\n",
    "\n",
    "for f in os.listdir(test_folder):\n",
    "    img = image.load_img(test_folder+f,target_size=(feature_size,feature_size))\n",
    "    x = image.img_to_array(img)\n",
    "    x = np.expand_dims(x, axis=0)\n",
    "    x = x/255\n",
    "    x = preprocessing(x,None,None)\n",
    "    pre = model.predict(x)\n",
    "    label_num = np.argmax(pre[0])\n",
    "    if label_num == 0:\n",
    "        label = 'norm'\n",
    "    else:\n",
    "        label = 'defect'+str(label_num)\n",
    "    res.append({\n",
    "        'in':int(f.split('.')[0]),\n",
    "        'file':f,\n",
    "        'label':label\n",
    "    })"
   ]
  },
  {
   "cell_type": "code",
   "execution_count": 7,
   "metadata": {},
   "outputs": [
    {
     "name": "stdout",
     "output_type": "stream",
     "text": [
      "      file  in    label\n",
      "681  0.jpg   0  defect7\n",
      "144  1.jpg   1  defect2\n",
      "399  2.jpg   2     norm\n",
      "981  3.jpg   3     norm\n",
      "42   4.jpg   4     norm\n",
      "      file    label\n",
      "681  0.jpg  defect7\n",
      "144  1.jpg  defect2\n",
      "399  2.jpg     norm\n",
      "981  3.jpg     norm\n",
      "42   4.jpg     norm\n"
     ]
    }
   ],
   "source": [
    "tmp = pd.DataFrame(res)\n",
    "tmp = tmp.sort_values('in')\n",
    "df = tmp.drop('in',1)\n",
    "\n",
    "print(tmp.head())\n",
    "print(df.head())"
   ]
  },
  {
   "cell_type": "code",
   "execution_count": 8,
   "metadata": {},
   "outputs": [],
   "source": [
    "df.to_csv('submit.csv',header=False,index=False)"
   ]
  },
  {
   "cell_type": "code",
   "execution_count": null,
   "metadata": {},
   "outputs": [],
   "source": []
  },
  {
   "cell_type": "code",
   "execution_count": null,
   "metadata": {
    "collapsed": true
   },
   "outputs": [],
   "source": []
  },
  {
   "cell_type": "code",
   "execution_count": null,
   "metadata": {
    "collapsed": true
   },
   "outputs": [],
   "source": []
  }
 ],
 "metadata": {
  "kernelspec": {
   "display_name": "Python 3",
   "language": "python",
   "name": "python3"
  },
  "language_info": {
   "codemirror_mode": {
    "name": "ipython",
    "version": 3
   },
   "file_extension": ".py",
   "mimetype": "text/x-python",
   "name": "python",
   "nbconvert_exporter": "python",
   "pygments_lexer": "ipython3",
   "version": "3.6.5"
  }
 },
 "nbformat": 4,
 "nbformat_minor": 2
}
