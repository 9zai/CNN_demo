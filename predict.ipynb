{
 "cells": [
  {
   "cell_type": "code",
   "execution_count": 9,
   "metadata": {
    "collapsed": false
   },
   "outputs": [],
   "source": [
    "import os\n",
    "import numpy as np\n",
    "import pandas as pd\n",
    "\n",
    "from keras.models import load_model\n",
    "from keras.preprocessing import image\n",
    "from keras.applications import Xception"
   ]
  },
  {
   "cell_type": "code",
   "execution_count": 10,
   "metadata": {
    "collapsed": false
   },
   "outputs": [],
   "source": [
    "test_folder = \"./test/\"\n",
    "feature_size = 299\n",
    "\n",
    "model_path = \"./Xception_top.h5\"\n",
    "model = load_model(model_path)\n",
    "\n",
    "middle_faeture_shape = (10,10,2048)\n",
    "X_model = Xception(weights=None,include_top=False,input_shape=(feature_size,feature_size,3))\n",
    "X_model.load_weights(\"./xception_weights_notop.h5\")"
   ]
  },
  {
   "cell_type": "code",
   "execution_count": 32,
   "metadata": {
    "collapsed": false
   },
   "outputs": [],
   "source": [
    "def preprocessing(x,output_size = None,pre_model = None):\n",
    "    if pre_model is None:\n",
    "        return x\n",
    "    elif output_size is None:\n",
    "        raise Exception('should use output_size for pre_model')\n",
    "    else:\n",
    "        middle_faeture = pre_model.predict(x)\n",
    "        res = np.reshape(middle_faeture,(1,output_size[0] * output_size[1] * output_size[2]))\n",
    "        return res"
   ]
  },
  {
   "cell_type": "code",
   "execution_count": 34,
   "metadata": {
    "collapsed": false
   },
   "outputs": [],
   "source": [
    "res = []\n",
    "\n",
    "for f in os.listdir(test_folder):\n",
    "    img = image.load_img(test_folder+f,target_size=(feature_size,feature_size))\n",
    "    x = image.img_to_array(img)\n",
    "    x = np.expand_dims(x, axis=0)\n",
    "    x = x/255\n",
    "    x = preprocessing(x,middle_faeture_shape,X_model)\n",
    "    pre = model.predict(x)\n",
    "    label_num = np.argmax(pre[0])\n",
    "    if label_num == 0:\n",
    "        label = 'norm'\n",
    "    else:\n",
    "        label = 'defect'+str(label_num)\n",
    "    res.append({\n",
    "        'file':f,\n",
    "        'label':label\n",
    "    })"
   ]
  },
  {
   "cell_type": "code",
   "execution_count": 35,
   "metadata": {
    "collapsed": true
   },
   "outputs": [],
   "source": [
    "df = pd.DataFrame(res)"
   ]
  },
  {
   "cell_type": "code",
   "execution_count": 36,
   "metadata": {
    "collapsed": true
   },
   "outputs": [],
   "source": [
    "df.to_csv('submit.csv',header=False,index=False)"
   ]
  },
  {
   "cell_type": "code",
   "execution_count": null,
   "metadata": {
    "collapsed": false
   },
   "outputs": [],
   "source": []
  },
  {
   "cell_type": "code",
   "execution_count": null,
   "metadata": {
    "collapsed": false
   },
   "outputs": [],
   "source": []
  },
  {
   "cell_type": "code",
   "execution_count": null,
   "metadata": {
    "collapsed": true
   },
   "outputs": [],
   "source": []
  },
  {
   "cell_type": "code",
   "execution_count": null,
   "metadata": {
    "collapsed": true
   },
   "outputs": [],
   "source": []
  }
 ],
 "metadata": {
  "kernelspec": {
   "display_name": "Python [conda root]",
   "language": "python",
   "name": "conda-root-py"
  },
  "language_info": {
   "codemirror_mode": {
    "name": "ipython",
    "version": 2
   },
   "file_extension": ".py",
   "mimetype": "text/x-python",
   "name": "python",
   "nbconvert_exporter": "python",
   "pygments_lexer": "ipython2",
   "version": "2.7.13"
  }
 },
 "nbformat": 4,
 "nbformat_minor": 2
}
