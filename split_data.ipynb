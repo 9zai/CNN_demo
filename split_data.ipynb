{
 "cells": [
  {
   "cell_type": "code",
   "execution_count": 1,
   "metadata": {},
   "outputs": [],
   "source": [
    "import os\n",
    "import shutil\n",
    "import re"
   ]
  },
  {
   "cell_type": "code",
   "execution_count": 2,
   "metadata": {},
   "outputs": [],
   "source": [
    "res_dir = \"./data/\""
   ]
  },
  {
   "cell_type": "code",
   "execution_count": 3,
   "metadata": {},
   "outputs": [],
   "source": [
    "samples = []\n",
    "for f in os.listdir(res_dir):\n",
    "    if not f.startswith('.'):\n",
    "        samples.append(f)"
   ]
  },
  {
   "cell_type": "code",
   "execution_count": 17,
   "metadata": {},
   "outputs": [],
   "source": [
    "tufen_dir = \"/tufen/\"\n",
    "cahua_dir = \"/cahua/\"\n",
    "loudi_dir = \"/loudi/\"\n",
    "pengao_dir = \"/pengao/\"\n",
    "\n",
    "tufen_list = []\n",
    "cahua_list = []\n",
    "loudi_list = []\n",
    "pengao_list = []"
   ]
  },
  {
   "cell_type": "code",
   "execution_count": 21,
   "metadata": {},
   "outputs": [],
   "source": [
    "for f_name in samples:\n",
    "    cate = re.findall('^(..)',f_name)[0]\n",
    "    if cate == '凸粉':\n",
    "        tufen_list.append(f_name)\n",
    "    elif cate == '擦花':\n",
    "        cahua_list.append(f_name)\n",
    "    elif cate == '漏底':\n",
    "        loudi_list.append(f_name)\n",
    "    elif cate == '碰凹':\n",
    "        pengao_list.append(f_name)"
   ]
  },
  {
   "cell_type": "code",
   "execution_count": 15,
   "metadata": {},
   "outputs": [],
   "source": [
    "#get 10 samples for validation in each class\n",
    "#use the rest as training\n",
    "#use data augament"
   ]
  },
  {
   "cell_type": "code",
   "execution_count": 19,
   "metadata": {},
   "outputs": [],
   "source": [
    "train_dir = \"./train\"\n",
    "val_dir = \"./validate\"\n",
    "\n",
    "os.system('rm -rf {}'.format(train_dir))\n",
    "os.system('rm -rf {}'.format(val_dir))\n",
    "\n",
    "os.mkdir(train_dir)\n",
    "os.mkdir(val_dir)\n",
    "\n",
    "train_tufen = train_dir+tufen_dir\n",
    "train_cahua = train_dir+cahua_dir\n",
    "train_loudi = train_dir+loudi_dir\n",
    "train_pengao = train_dir+pengao_dir\n",
    "\n",
    "val_tufen = val_dir+tufen_dir\n",
    "val_cahua = val_dir+cahua_dir\n",
    "val_loudi = val_dir+loudi_dir\n",
    "val_pengao = val_dir+pengao_dir\n",
    "\n",
    "os.mkdir(train_tufen)\n",
    "os.mkdir(train_cahua)\n",
    "os.mkdir(train_loudi)\n",
    "os.mkdir(train_pengao)\n",
    "\n",
    "os.mkdir(val_tufen)\n",
    "os.mkdir(val_cahua)\n",
    "os.mkdir(val_loudi)\n",
    "os.mkdir(val_pengao)"
   ]
  },
  {
   "cell_type": "code",
   "execution_count": 25,
   "metadata": {},
   "outputs": [],
   "source": [
    "def move_samples(train_dest,val_dest,name_list,from_dest = './data',threhold = 10):\n",
    "    c = 0\n",
    "    for f in name_list:\n",
    "        base = os.path.join(from_dest,f)\n",
    "        \n",
    "        if c>=threhold:\n",
    "            desc_dir = os.path.join(train_dest,f)\n",
    "        else:\n",
    "            desc_dir = os.path.join(val_dest,f)\n",
    "        \n",
    "        shutil.copy(base,desc_dir)\n",
    "        c+=1"
   ]
  },
  {
   "cell_type": "code",
   "execution_count": 26,
   "metadata": {},
   "outputs": [],
   "source": [
    "move_samples(train_cahua,val_cahua,cahua_list)\n",
    "move_samples(train_loudi,val_loudi,loudi_list)\n",
    "move_samples(train_pengao,val_pengao,pengao_list)\n",
    "move_samples(train_tufen,val_tufen,tufen_list)"
   ]
  },
  {
   "cell_type": "code",
   "execution_count": 3,
   "metadata": {},
   "outputs": [],
   "source": [
    "defectList = ['正常','不导电','擦花','横条压凹','桔皮','漏底','碰伤','起坑','凸粉','涂层开裂','脏点','其他']\n",
    "defect = \"defect\""
   ]
  },
  {
   "cell_type": "code",
   "execution_count": null,
   "metadata": {},
   "outputs": [],
   "source": []
  },
  {
   "cell_type": "code",
   "execution_count": null,
   "metadata": {},
   "outputs": [],
   "source": []
  },
  {
   "cell_type": "code",
   "execution_count": null,
   "metadata": {},
   "outputs": [],
   "source": []
  },
  {
   "cell_type": "code",
   "execution_count": null,
   "metadata": {},
   "outputs": [],
   "source": []
  }
 ],
 "metadata": {
  "kernelspec": {
   "display_name": "Python 3",
   "language": "python",
   "name": "python3"
  },
  "language_info": {
   "codemirror_mode": {
    "name": "ipython",
    "version": 3
   },
   "file_extension": ".py",
   "mimetype": "text/x-python",
   "name": "python",
   "nbconvert_exporter": "python",
   "pygments_lexer": "ipython3",
   "version": "3.6.4"
  }
 },
 "nbformat": 4,
 "nbformat_minor": 2
}
