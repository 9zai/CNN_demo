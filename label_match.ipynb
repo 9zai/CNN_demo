{
 "cells": [
  {
   "cell_type": "code",
   "execution_count": 8,
   "metadata": {},
   "outputs": [
    {
     "data": {
      "text/plain": [
       "'done'"
      ]
     },
     "execution_count": 8,
     "metadata": {},
     "output_type": "execute_result"
    }
   ],
   "source": [
    "import os\n",
    "import shutil\n",
    "\"\"\"\n",
    "#!/bin/sh\n",
    "export LANG=en_US.UTF-8\n",
    "\n",
    "function getdir(){\n",
    "    for element in `ls $1`\n",
    "    do  \n",
    "        dir_or_file=$1\"/\"$element\n",
    "        if [ -d $dir_or_file ]\n",
    "        then \n",
    "            getdir $dir_or_file\n",
    "        else\n",
    "            mv -f $dir_or_file \"/Users/weiyihe/Desktop/test/guangdong/data/其他\"\n",
    "        fi  \n",
    "    done\n",
    "}\n",
    "root_dir=\"/Users/weiyihe/Desktop/test/guangdong/train_2/瑕疵样本/其他\"\n",
    "getdir $root_dir \n",
    "\"\"\"\n",
    "'done'"
   ]
  },
  {
   "cell_type": "code",
   "execution_count": 3,
   "metadata": {},
   "outputs": [],
   "source": [
    "defectList = ['正常','不导电','擦花','横条压凹','桔皮','漏底','碰伤','起坑','凸粉','涂层开裂','脏点','其他']\n",
    "defect = \"defect\"\n",
    "base_dir = \"./data/\""
   ]
  },
  {
   "cell_type": "code",
   "execution_count": 5,
   "metadata": {},
   "outputs": [],
   "source": [
    "for f in os.listdir(base_dir):\n",
    "    if not f.startswith('.'):\n",
    "        num = defectList.index(f)\n",
    "        n_f = defect+str(num)\n",
    "\n",
    "        old_file = base_dir+f\n",
    "        new_file = base_dir+n_f\n",
    "        os.system('mv %s %s' % (old_file,new_file))"
   ]
  },
  {
   "cell_type": "code",
   "execution_count": 9,
   "metadata": {},
   "outputs": [],
   "source": [
    "dest_dir = \"./format_data/\"\n",
    "train_dir = \"./format_data/train/\"\n",
    "val_dir = \"./format_data/val/\"\n",
    "\n",
    "os.mkdir(dest_dir)\n",
    "os.mkdir(train_dir)\n",
    "os.mkdir(val_dir)\n",
    "'done'"
   ]
  },
  {
   "cell_type": "code",
   "execution_count": 10,
   "metadata": {},
   "outputs": [],
   "source": [
    "for i in range(0,11):\n",
    "    folder = defect+str(i)\n",
    "    os.mkdir(train_dir+folder)\n",
    "    os.mkdir(val_dir+folder)"
   ]
  },
  {
   "cell_type": "code",
   "execution_count": 11,
   "metadata": {},
   "outputs": [],
   "source": [
    "def move_samples(train_dest,val_dest,name_list,from_dest = './data',threhold = 10):\n",
    "    c = 0\n",
    "    for f in name_list:\n",
    "        base = os.path.join(from_dest,f)\n",
    "        \n",
    "        if c>=threhold:\n",
    "            desc_dir = os.path.join(train_dest,f)\n",
    "        else:\n",
    "            desc_dir = os.path.join(val_dest,f)\n",
    "        \n",
    "        shutil.copy(base,desc_dir)\n",
    "        c+=1"
   ]
  },
  {
   "cell_type": "code",
   "execution_count": 12,
   "metadata": {},
   "outputs": [],
   "source": [
    "for i in range(0,11):\n",
    "    folder = defect+str(i)\n",
    "    from_dest = base_dir+folder\n",
    "    name_list = os.listdir(from_dest)\n",
    "    move_samples(train_dir+folder,val_dir+folder,name_list,from_dest)"
   ]
  },
  {
   "cell_type": "code",
   "execution_count": null,
   "metadata": {},
   "outputs": [],
   "source": []
  },
  {
   "cell_type": "code",
   "execution_count": null,
   "metadata": {},
   "outputs": [],
   "source": []
  },
  {
   "cell_type": "code",
   "execution_count": null,
   "metadata": {},
   "outputs": [],
   "source": []
  }
 ],
 "metadata": {
  "kernelspec": {
   "display_name": "Python 3",
   "language": "python",
   "name": "python3"
  },
  "language_info": {
   "codemirror_mode": {
    "name": "ipython",
    "version": 3
   },
   "file_extension": ".py",
   "mimetype": "text/x-python",
   "name": "python",
   "nbconvert_exporter": "python",
   "pygments_lexer": "ipython3",
   "version": "3.6.4"
  }
 },
 "nbformat": 4,
 "nbformat_minor": 2
}
