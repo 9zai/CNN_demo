{
 "cells": [
  {
   "cell_type": "code",
   "execution_count": 1,
   "metadata": {},
   "outputs": [
    {
     "name": "stderr",
     "output_type": "stream",
     "text": [
      "Using TensorFlow backend.\n"
     ]
    }
   ],
   "source": [
    "from keras.preprocessing.image import ImageDataGenerator\n",
    "from keras import models\n",
    "from keras import layers\n",
    "from keras import optimizers\n",
    "from keras import backend as K\n",
    "K.set_session(K.tf.Session(config=K.tf.ConfigProto(intra_op_parallelism_threads=32, inter_op_parallelism_threads=32)))\n",
    "\n",
    "\"\"\"\n",
    "./format_data/train/\n",
    "./format_data/val/\n",
    "\"\"\"\n",
    "train_dir = \"./format_data/train/\"\n",
    "test_dir = \"./format_data/val/\"\n",
    "\n",
    "feature_size = 386\n",
    "batch_size = 5"
   ]
  },
  {
   "cell_type": "code",
   "execution_count": 2,
   "metadata": {
    "collapsed": true
   },
   "outputs": [],
   "source": [
    "train_gen = ImageDataGenerator(rescale=1./255,rotation_range=180,horizontal_flip=True,vertical_flip=True)\n",
    "test_gen = ImageDataGenerator(rescale=1./255)"
   ]
  },
  {
   "cell_type": "code",
   "execution_count": 3,
   "metadata": {},
   "outputs": [
    {
     "name": "stdout",
     "output_type": "stream",
     "text": [
      "Found 1886 images belonging to 11 classes.\n",
      "Found 110 images belonging to 11 classes.\n"
     ]
    }
   ],
   "source": [
    "train_gener = train_gen.flow_from_directory(train_dir,target_size=(feature_size,feature_size),batch_size=batch_size,class_mode=\"categorical\")\n",
    "test_gener = test_gen.flow_from_directory(test_dir,target_size=(feature_size,feature_size),batch_size=batch_size,class_mode=\"categorical\")"
   ]
  },
  {
   "cell_type": "code",
   "execution_count": 4,
   "metadata": {},
   "outputs": [
    {
     "name": "stdout",
     "output_type": "stream",
     "text": [
      "(5, 386, 386, 3)\n",
      "(5, 11)\n"
     ]
    }
   ],
   "source": [
    "for data_batch,label_batch in train_gener:\n",
    "    print(data_batch.shape)\n",
    "    print(label_batch.shape)\n",
    "    break"
   ]
  },
  {
   "cell_type": "markdown",
   "metadata": {},
   "source": [
    "# Simple model for shape testing "
   ]
  },
  {
   "cell_type": "code",
   "execution_count": 5,
   "metadata": {
    "collapsed": true
   },
   "outputs": [],
   "source": [
    "model = models.Sequential()\n",
    "model.add(layers.Conv2D(64,(3,3),activation='relu',input_shape=(feature_size,feature_size,3)))\n",
    "model.add(layers.Conv2D(64,(3,3),activation='relu'))\n",
    "model.add(layers.MaxPool2D((2,2),strides=(2,2)))\n",
    "\n",
    "model.add(layers.Conv2D(128,(3,3),activation='relu'))\n",
    "model.add(layers.Conv2D(128,(3,3),activation='relu'))\n",
    "model.add(layers.Conv2D(128,(3,3),activation='relu'))\n",
    "model.add(layers.MaxPool2D((2,2),strides=(2,2)))\n",
    "\n",
    "model.add(layers.Conv2D(256,(3,3),activation='relu'))\n",
    "model.add(layers.Conv2D(256,(3,3),activation='relu'))\n",
    "model.add(layers.Conv2D(256,(3,3),activation='relu'))\n",
    "model.add(layers.MaxPool2D((2,2),strides=(2,2)))\n",
    "\n",
    "model.add(layers.Conv2D(512,(3,3),activation='relu'))\n",
    "model.add(layers.Conv2D(512,(3,3),activation='relu'))\n",
    "model.add(layers.Conv2D(512,(3,3),activation='relu'))\n",
    "model.add(layers.MaxPool2D((2,2),strides=(2,2)))\n",
    "\n",
    "model.add(layers.Conv2D(512,(3,3),activation='relu'))\n",
    "model.add(layers.Conv2D(512,(3,3),activation='relu'))\n",
    "model.add(layers.Conv2D(512,(3,3),activation='relu'))\n",
    "model.add(layers.MaxPool2D((2,2),strides=(2,2)))\n",
    "\n",
    "model.add(layers.Flatten())\n",
    "model.add(layers.Dense(2000,activation='relu'))\n",
    "model.add(layers.Dropout(0.5))\n",
    "\n",
    "model.add(layers.Dense(2000,activation='relu'))\n",
    "model.add(layers.Dropout(0.5))\n",
    "\n",
    "model.add(layers.Dense(11,activation='softmax'))"
   ]
  },
  {
   "cell_type": "code",
   "execution_count": 6,
   "metadata": {},
   "outputs": [
    {
     "name": "stdout",
     "output_type": "stream",
     "text": [
      "_________________________________________________________________\n",
      "Layer (type)                 Output Shape              Param #   \n",
      "=================================================================\n",
      "conv2d_1 (Conv2D)            (None, 384, 384, 64)      1792      \n",
      "_________________________________________________________________\n",
      "conv2d_2 (Conv2D)            (None, 382, 382, 64)      36928     \n",
      "_________________________________________________________________\n",
      "max_pooling2d_1 (MaxPooling2 (None, 191, 191, 64)      0         \n",
      "_________________________________________________________________\n",
      "conv2d_3 (Conv2D)            (None, 189, 189, 128)     73856     \n",
      "_________________________________________________________________\n",
      "conv2d_4 (Conv2D)            (None, 187, 187, 128)     147584    \n",
      "_________________________________________________________________\n",
      "conv2d_5 (Conv2D)            (None, 185, 185, 128)     147584    \n",
      "_________________________________________________________________\n",
      "max_pooling2d_2 (MaxPooling2 (None, 92, 92, 128)       0         \n",
      "_________________________________________________________________\n",
      "conv2d_6 (Conv2D)            (None, 90, 90, 256)       295168    \n",
      "_________________________________________________________________\n",
      "conv2d_7 (Conv2D)            (None, 88, 88, 256)       590080    \n",
      "_________________________________________________________________\n",
      "conv2d_8 (Conv2D)            (None, 86, 86, 256)       590080    \n",
      "_________________________________________________________________\n",
      "max_pooling2d_3 (MaxPooling2 (None, 43, 43, 256)       0         \n",
      "_________________________________________________________________\n",
      "conv2d_9 (Conv2D)            (None, 41, 41, 512)       1180160   \n",
      "_________________________________________________________________\n",
      "conv2d_10 (Conv2D)           (None, 39, 39, 512)       2359808   \n",
      "_________________________________________________________________\n",
      "conv2d_11 (Conv2D)           (None, 37, 37, 512)       2359808   \n",
      "_________________________________________________________________\n",
      "max_pooling2d_4 (MaxPooling2 (None, 18, 18, 512)       0         \n",
      "_________________________________________________________________\n",
      "conv2d_12 (Conv2D)           (None, 16, 16, 512)       2359808   \n",
      "_________________________________________________________________\n",
      "conv2d_13 (Conv2D)           (None, 14, 14, 512)       2359808   \n",
      "_________________________________________________________________\n",
      "conv2d_14 (Conv2D)           (None, 12, 12, 512)       2359808   \n",
      "_________________________________________________________________\n",
      "max_pooling2d_5 (MaxPooling2 (None, 6, 6, 512)         0         \n",
      "_________________________________________________________________\n",
      "flatten_1 (Flatten)          (None, 18432)             0         \n",
      "_________________________________________________________________\n",
      "dense_1 (Dense)              (None, 2000)              36866000  \n",
      "_________________________________________________________________\n",
      "dropout_1 (Dropout)          (None, 2000)              0         \n",
      "_________________________________________________________________\n",
      "dense_2 (Dense)              (None, 2000)              4002000   \n",
      "_________________________________________________________________\n",
      "dropout_2 (Dropout)          (None, 2000)              0         \n",
      "_________________________________________________________________\n",
      "dense_3 (Dense)              (None, 11)                22011     \n",
      "=================================================================\n",
      "Total params: 55,752,283\n",
      "Trainable params: 55,752,283\n",
      "Non-trainable params: 0\n",
      "_________________________________________________________________\n"
     ]
    }
   ],
   "source": [
    "model.summary()"
   ]
  },
  {
   "cell_type": "code",
   "execution_count": 7,
   "metadata": {
    "collapsed": true
   },
   "outputs": [],
   "source": [
    "model.compile(loss='categorical_crossentropy',optimizer=optimizers.RMSprop(lr=1e-4),metrics=['acc'])"
   ]
  },
  {
   "cell_type": "code",
   "execution_count": null,
   "metadata": {
    "scrolled": true
   },
   "outputs": [
    {
     "name": "stdout",
     "output_type": "stream",
     "text": [
      "Epoch 1/25\n",
      "19/30 [==================>...........] - ETA: 79s - loss: 7.7018 - acc: 0.4842"
     ]
    }
   ],
   "source": [
    "history = model.fit_generator(train_gener,steps_per_epoch=30,epochs=25,validation_data=test_gener,validation_steps=20)"
   ]
  },
  {
   "cell_type": "code",
   "execution_count": null,
   "metadata": {},
   "outputs": [],
   "source": [
    "model.save('simple_model_for_testing')\n",
    "import pickle\n",
    "\n",
    "log = open('simple_model_for_testing.log','wb')\n",
    "pickle.dump(history.history,log)\n",
    "log.close()\n",
    "print('done testing')"
   ]
  },
  {
   "cell_type": "code",
   "execution_count": 11,
   "metadata": {},
   "outputs": [
    {
     "data": {
      "text/plain": [
       "[0.51333334396282837,\n",
       " 0.593333346148332,\n",
       " 0.56000001281499867,\n",
       " 0.54000001003344855,\n",
       " 0.53333334624767303,\n",
       " 0.53333334426085155,\n",
       " 0.42000000874201454,\n",
       " 0.58000001062949502,\n",
       " 0.52000001172224686,\n",
       " 0.50666667719682057,\n",
       " 0.52666667997837069,\n",
       " 0.58000001311302185,\n",
       " 0.52054795847363666,\n",
       " 0.48666667739550273,\n",
       " 0.52000000874201457,\n",
       " 0.54666667928298318,\n",
       " 0.58666668087244034,\n",
       " 0.55333334555228553,\n",
       " 0.54666667928298318,\n",
       " 0.60666667819023135,\n",
       " 0.52666667848825455,\n",
       " 0.5666666800777117,\n",
       " 0.45333334604899089,\n",
       " 0.50666667719682057,\n",
       " 0.53333334674437838]"
      ]
     },
     "execution_count": 11,
     "metadata": {},
     "output_type": "execute_result"
    }
   ],
   "source": [
    "history.history['acc']"
   ]
  },
  {
   "cell_type": "code",
   "execution_count": null,
   "metadata": {
    "collapsed": true
   },
   "outputs": [],
   "source": []
  },
  {
   "cell_type": "code",
   "execution_count": null,
   "metadata": {
    "collapsed": true
   },
   "outputs": [],
   "source": []
  },
  {
   "cell_type": "code",
   "execution_count": null,
   "metadata": {
    "collapsed": true
   },
   "outputs": [],
   "source": []
  },
  {
   "cell_type": "code",
   "execution_count": null,
   "metadata": {
    "collapsed": true
   },
   "outputs": [],
   "source": []
  }
 ],
 "metadata": {
  "kernelspec": {
   "display_name": "Python 3",
   "language": "python",
   "name": "python3"
  },
  "language_info": {
   "codemirror_mode": {
    "name": "ipython",
    "version": 3
   },
   "file_extension": ".py",
   "mimetype": "text/x-python",
   "name": "python",
   "nbconvert_exporter": "python",
   "pygments_lexer": "ipython3",
   "version": "3.6.4"
  }
 },
 "nbformat": 4,
 "nbformat_minor": 2
}
